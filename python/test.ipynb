{
 "cells": [
  {
   "cell_type": "code",
   "execution_count": 3,
   "metadata": {},
   "outputs": [],
   "source": [
    "import numpy as np\n",
    "import json\n",
    "from utilities import *"
   ]
  },
  {
   "cell_type": "code",
   "execution_count": 5,
   "metadata": {},
   "outputs": [],
   "source": [
    "f = open('/project/iarpa/dataset/cyclo_modul_OFDM/simulation/nUser_9/wlanHE_256_0_100_20_0.4_2.metadata')\n",
    "loadMetadata = json.load(f)\n",
    "\n",
    "MCS_list_function = getMCS_HEMU(loadMetadata)\n"
   ]
  },
  {
   "cell_type": "code",
   "execution_count": null,
   "metadata": {},
   "outputs": [],
   "source": []
  }
 ],
 "metadata": {
  "interpreter": {
   "hash": "e751b7af8b71f882a36e366e4a084ba5f9dba78d7a2a0971414443e04822ca66"
  },
  "kernelspec": {
   "display_name": "Python 3.10.9 ('cyclo_modul_OFDM')",
   "language": "python",
   "name": "python3"
  },
  "language_info": {
   "codemirror_mode": {
    "name": "ipython",
    "version": 3
   },
   "file_extension": ".py",
   "mimetype": "text/x-python",
   "name": "python",
   "nbconvert_exporter": "python",
   "pygments_lexer": "ipython3",
   "version": "3.10.9"
  },
  "orig_nbformat": 4
 },
 "nbformat": 4,
 "nbformat_minor": 2
}
