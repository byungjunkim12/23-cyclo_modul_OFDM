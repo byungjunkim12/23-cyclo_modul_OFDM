{
 "cells": [
  {
   "cell_type": "code",
   "execution_count": 1,
   "metadata": {},
   "outputs": [],
   "source": [
    "import numpy as np\n",
    "import json\n",
    "from utilities import *"
   ]
  },
  {
   "cell_type": "code",
   "execution_count": 16,
   "metadata": {},
   "outputs": [],
   "source": [
    "SNRVec = np.arange(0, 21, 2, dtype=int)\n",
    "FFTsize = 4096\n",
    "tauVec = np.array([64, 256, 333, 667, 1333])\n",
    "freqBinList = [[51, 57], [13, 14, 15], [10, 12]]\n",
    "symLenList = [[80, 72], [320, 288, 272], [640, 548]]"
   ]
  },
  {
   "cell_type": "code",
   "execution_count": 3,
   "metadata": {},
   "outputs": [
    {
     "name": "stdout",
     "output_type": "stream",
     "text": [
      "[3 3 3 3 3 3 3 3 3]\n"
     ]
    }
   ],
   "source": [
    "f = open('/project/iarpa/dataset/cyclo_modul_OFDM/simulation/test/wlanHE_Extended_16_0_100_20_0.4_1.metadata')\n",
    "loadMetadata = json.load(f)\n",
    "\n",
    "MCSlist = getMCS_HEMU(loadMetadata)\n",
    "print(MCSlist)"
   ]
  },
  {
   "cell_type": "code",
   "execution_count": 23,
   "metadata": {},
   "outputs": [
    {
     "name": "stdout",
     "output_type": "stream",
     "text": [
      "6800\n"
     ]
    }
   ],
   "source": [
    "load_out = np.fromfile('/project/iarpa/dataset/cyclo_modul_OFDM/simulation/test/wlanHE_Normal_16_0_100_20_0.4_1.32cf',\\\n",
    "    dtype=np.float32)\n",
    "data = load_out[np.arange(0, load_out.shape[0], 2)] +\\\n",
    "                    1j * load_out[np.arange(1, load_out.shape[0], 2)]\n",
    "\n",
    "inputIQ = data[1200:]\n",
    "print(inputIQ.shape[0])"
   ]
  },
  {
   "cell_type": "code",
   "execution_count": 24,
   "metadata": {},
   "outputs": [
    {
     "name": "stdout",
     "output_type": "stream",
     "text": [
      "256 272\n"
     ]
    }
   ],
   "source": [
    "CPLen = 8\n",
    "\n",
    "CAF_DC = getCAF_DC(inputIQ, tauVec, CPLen)\n",
    "nSubC_Est = tauVec[np.argmax(CAF_DC)]\n",
    "CAF = getCAF(inputIQ, FFTsize, nSubC_Est, CPLen)\n",
    "\n",
    "symLenEst = symLenList[np.argmax(CAF_DC)][np.argmax(CAF[freqBinList[np.argmax(CAF_DC)]])]\n",
    "print(nSubC_Est, symLenEst)"
   ]
  },
  {
   "cell_type": "code",
   "execution_count": 28,
   "metadata": {},
   "outputs": [
    {
     "name": "stdout",
     "output_type": "stream",
     "text": [
      "/project/iarpa/dataset/cyclo_modul_OFDM/simulation/test/\n"
     ]
    }
   ],
   "source": [
    "f = open(\"./inputJson/test.json\")\n",
    "loadedJson = json.load(f)\n",
    "print(loadedJson[\"data_path\"])"
   ]
  },
  {
   "cell_type": "code",
   "execution_count": null,
   "metadata": {},
   "outputs": [],
   "source": []
  }
 ],
 "metadata": {
  "interpreter": {
   "hash": "e751b7af8b71f882a36e366e4a084ba5f9dba78d7a2a0971414443e04822ca66"
  },
  "kernelspec": {
   "display_name": "Python 3.10.9 ('cyclo_modul_OFDM')",
   "language": "python",
   "name": "python3"
  },
  "language_info": {
   "codemirror_mode": {
    "name": "ipython",
    "version": 3
   },
   "file_extension": ".py",
   "mimetype": "text/x-python",
   "name": "python",
   "nbconvert_exporter": "python",
   "pygments_lexer": "ipython3",
   "version": "3.10.9"
  },
  "orig_nbformat": 4
 },
 "nbformat": 4,
 "nbformat_minor": 2
}
