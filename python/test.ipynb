{
 "cells": [
  {
   "cell_type": "code",
   "execution_count": 1,
   "metadata": {},
   "outputs": [],
   "source": [
    "import numpy as np\n",
    "import json\n",
    "from utilities import *\n",
    "import torch\n",
    "# print(torch.version.cuda)"
   ]
  },
  {
   "cell_type": "code",
   "execution_count": 8,
   "metadata": {},
   "outputs": [
    {
     "data": {
      "text/plain": [
       "(5,)"
      ]
     },
     "execution_count": 8,
     "metadata": {},
     "output_type": "execute_result"
    }
   ],
   "source": [
    "SNRVec = np.arange(0, 21, 2, dtype=int)\n",
    "FFTsize = 4096\n",
    "tauVec = np.array([64, 256, 333, 667, 1333])\n",
    "freqBinList = [[51, 57], [13, 14, 15], [10, 12]]\n",
    "symLenList = [[80, 72], [320, 288, 272], [640, 548]]\n",
    "CPLenList = np.array([np.array(['Extended', 'Normal']),\\\n",
    "    np.array(['Extended', 'Medium', 'Normal']),\\\n",
    "    np.array(['Extended', 'Normal']),\\\n",
    "    np.array(['Normal']), np.array(['Normal'])], dtype=object)\n",
    "protocolList = np.array(['wlanHT', 'wlanHE', 'NRDLa', 'NRDLb', 'NRDLc'])\n",
    "\n",
    "CPLenList.shape"
   ]
  },
  {
   "cell_type": "code",
   "execution_count": 14,
   "metadata": {},
   "outputs": [
    {
     "name": "stdout",
     "output_type": "stream",
     "text": [
      "[array([[0., 0.],\n",
      "        [0., 0.],\n",
      "        [0., 0.],\n",
      "        [0., 0.],\n",
      "        [0., 0.],\n",
      "        [0., 0.],\n",
      "        [0., 0.],\n",
      "        [0., 0.],\n",
      "        [0., 0.],\n",
      "        [0., 0.],\n",
      "        [0., 0.]]) array([[0., 0., 0.],\n",
      "                          [0., 0., 0.],\n",
      "                          [0., 0., 0.],\n",
      "                          [0., 0., 0.],\n",
      "                          [0., 0., 0.],\n",
      "                          [0., 0., 0.],\n",
      "                          [0., 0., 0.],\n",
      "                          [0., 0., 0.],\n",
      "                          [0., 0., 0.],\n",
      "                          [0., 0., 0.],\n",
      "                          [0., 0., 0.]]) array([[0., 0.],\n",
      "                                                [0., 0.],\n",
      "                                                [0., 0.],\n",
      "                                                [0., 0.],\n",
      "                                                [0., 0.],\n",
      "                                                [0., 0.],\n",
      "                                                [0., 0.],\n",
      "                                                [0., 0.],\n",
      "                                                [0., 0.],\n",
      "                                                [0., 0.],\n",
      "                                                [0., 0.]]) array([[0.],\n",
      "                                                                  [0.],\n",
      "                                                                  [0.],\n",
      "                                                                  [0.],\n",
      "                                                                  [0.],\n",
      "                                                                  [0.],\n",
      "                                                                  [0.],\n",
      "                                                                  [0.],\n",
      "                                                                  [0.],\n",
      "                                                                  [0.],\n",
      "                                                                  [0.]])\n",
      " array([[0.],\n",
      "        [0.],\n",
      "        [0.],\n",
      "        [0.],\n",
      "        [0.],\n",
      "        [0.],\n",
      "        [0.],\n",
      "        [0.],\n",
      "        [0.],\n",
      "        [0.],\n",
      "        [0.]])]\n"
     ]
    }
   ],
   "source": [
    "fileCount = np.zeros((len(protocolList),), dtype=object)\n",
    "for i in range(len(protocolList)):\n",
    "    fileCount[i] = np.zeros((len(SNRVec), CPLenList[i].shape[0]))\n",
    "    # fileCount = np.zeros((len(SNRVec), len(protocolList)))\n",
    "    corrNSubCCount = np.zeros((len(SNRVec), len(protocolList)))\n",
    "    corrSymLenCount = np.zeros((len(SNRVec), len(protocolList)))\n",
    "\n",
    "print(fileCount)"
   ]
  },
  {
   "cell_type": "code",
   "execution_count": 3,
   "metadata": {},
   "outputs": [
    {
     "name": "stdout",
     "output_type": "stream",
     "text": [
      "[3 3 3 3 3 3 3 3 3]\n"
     ]
    }
   ],
   "source": [
    "f = open('/project/iarpa/dataset/cyclo_modul_OFDM/simulation/test/wlanHE_Extended_16_0_100_20_0.4_1.metadata')\n",
    "loadMetadata = json.load(f)\n",
    "\n",
    "MCSlist = getMCS_HEMU(loadMetadata)\n",
    "print(MCSlist)"
   ]
  },
  {
   "cell_type": "code",
   "execution_count": 23,
   "metadata": {},
   "outputs": [
    {
     "name": "stdout",
     "output_type": "stream",
     "text": [
      "6800\n"
     ]
    }
   ],
   "source": [
    "load_out = np.fromfile('/project/iarpa/dataset/cyclo_modul_OFDM/walk_test/test/wlanHT_Extended_2_0_100_20_0.4_1.32cf',\\\n",
    "    dtype=np.float32)\n",
    "data = load_out[np.arange(0, load_out.shape[0], 2)] +\\\n",
    "                    1j * load_out[np.arange(1, load_out.shape[0], 2)]\n",
    "\n",
    "inputIQ = data[1200:]\n",
    "print(inputIQ.shape[0])"
   ]
  },
  {
   "cell_type": "code",
   "execution_count": 24,
   "metadata": {},
   "outputs": [
    {
     "name": "stdout",
     "output_type": "stream",
     "text": [
      "256 272\n"
     ]
    }
   ],
   "source": [
    "CPLen = 8\n",
    "\n",
    "CAF_DC = getCAF_DC(inputIQ, tauVec, CPLen)\n",
    "nSubC_Est = tauVec[np.argmax(CAF_DC)]\n",
    "CAF = getCAF(inputIQ, FFTsize, nSubC_Est, CPLen)\n",
    "\n",
    "symLenEst = symLenList[np.argmax(CAF_DC)][np.argmax(CAF[freqBinList[np.argmax(CAF_DC)]])]\n",
    "print(nSubC_Est, symLenEst)"
   ]
  },
  {
   "cell_type": "code",
   "execution_count": 28,
   "metadata": {},
   "outputs": [
    {
     "name": "stdout",
     "output_type": "stream",
     "text": [
      "/project/iarpa/dataset/cyclo_modul_OFDM/simulation/test/\n"
     ]
    }
   ],
   "source": [
    "f = open(\"./inputJson/test.json\")\n",
    "loadedJson = json.load(f)\n",
    "print(loadedJson[\"data_path\"])"
   ]
  },
  {
   "cell_type": "code",
   "execution_count": 2,
   "metadata": {},
   "outputs": [
    {
     "ename": "SyntaxError",
     "evalue": "incomplete input (3158903244.py, line 7)",
     "output_type": "error",
     "traceback": [
      "\u001b[0;36m  Cell \u001b[0;32mIn[2], line 7\u001b[0;36m\u001b[0m\n\u001b[0;31m    \u001b[0m\n\u001b[0m    ^\u001b[0m\n\u001b[0;31mSyntaxError\u001b[0m\u001b[0;31m:\u001b[0m incomplete input\n"
     ]
    }
   ],
   "source": [
    "import os\n",
    "directory = '/project/iarpa/dataset/cyclo_modul_OFDM/simulation/walk_test'\n",
    "os.walk(directory)\n",
    "\n",
    "# [x[0] for x in os.walk(directory)]\n",
    "for x in os.walk(directory):\n",
    "    "
   ]
  },
  {
   "cell_type": "code",
   "execution_count": 3,
   "metadata": {},
   "outputs": [],
   "source": [
    "    CPLenList = np.array([np.array(['Extended', 'Normal']),\\\n",
    "        np.array(['Extended', 'Medium', 'Normal']),\\\n",
    "        np.array(['Extended', 'Normal']),\\\n",
    "        np.array(['Normal']), np.array(['Normal'])], dtype=object)"
   ]
  },
  {
   "cell_type": "code",
   "execution_count": 5,
   "metadata": {},
   "outputs": [
    {
     "data": {
      "text/plain": [
       "array([[array([[400., 400.],\n",
       "               [400., 400.],\n",
       "               [400., 400.],\n",
       "               [400., 400.],\n",
       "               [400., 400.],\n",
       "               [400., 400.],\n",
       "               [400., 400.],\n",
       "               [400., 400.],\n",
       "               [400., 400.],\n",
       "               [400., 400.],\n",
       "               [400., 400.]]), array([[100.,  75.,  50.],\n",
       "                                      [100.,  75.,  50.],\n",
       "                                      [100.,  75.,  50.],\n",
       "                                      [100.,  75.,  50.],\n",
       "                                      [100.,  75.,  50.],\n",
       "                                      [100.,  75.,  50.],\n",
       "                                      [100.,  75.,  50.],\n",
       "                                      [100.,  75.,  50.],\n",
       "                                      [100.,  75.,  50.],\n",
       "                                      [100.,  75.,  50.],\n",
       "                                      [100.,  75.,  50.]]),\n",
       "        array([[100., 100.],\n",
       "               [100., 100.],\n",
       "               [100., 100.],\n",
       "               [100., 100.],\n",
       "               [100., 100.],\n",
       "               [100., 100.],\n",
       "               [100., 100.],\n",
       "               [100., 100.],\n",
       "               [100., 100.],\n",
       "               [100., 100.],\n",
       "               [100., 100.]]), array([[200.],\n",
       "                                      [200.],\n",
       "                                      [200.],\n",
       "                                      [200.],\n",
       "                                      [200.],\n",
       "                                      [200.],\n",
       "                                      [200.],\n",
       "                                      [200.],\n",
       "                                      [200.],\n",
       "                                      [200.],\n",
       "                                      [200.]]), array([[200.],\n",
       "                                                       [200.],\n",
       "                                                       [200.],\n",
       "                                                       [200.],\n",
       "                                                       [200.],\n",
       "                                                       [200.],\n",
       "                                                       [200.],\n",
       "                                                       [200.],\n",
       "                                                       [200.],\n",
       "                                                       [200.],\n",
       "                                                       [200.]])],\n",
       "       [array([800., 800., 800., 800., 800., 800., 800., 800., 800., 800., 800.]),\n",
       "        array([223., 224., 225., 225., 225., 225., 225., 225., 225., 225., 225.]),\n",
       "        array([199., 200., 200., 200., 200., 200., 200., 200., 200., 200., 200.]),\n",
       "        array([200., 200., 200., 200., 200., 200., 200., 200., 200., 200., 200.]),\n",
       "        array([199., 200., 200., 200., 200., 200., 200., 200., 200., 200., 200.])],\n",
       "       [array([[400., 400.],\n",
       "               [400., 400.],\n",
       "               [400., 400.],\n",
       "               [400., 400.],\n",
       "               [400., 400.],\n",
       "               [400., 400.],\n",
       "               [400., 400.],\n",
       "               [400., 400.],\n",
       "               [400., 400.],\n",
       "               [400., 400.],\n",
       "               [400., 400.]]), array([[100.,  75.,  44.],\n",
       "                                      [100.,  75.,  45.],\n",
       "                                      [100.,  75.,  49.],\n",
       "                                      [100.,  75.,  50.],\n",
       "                                      [100.,  75.,  50.],\n",
       "                                      [100.,  75.,  50.],\n",
       "                                      [100.,  75.,  50.],\n",
       "                                      [100.,  75.,  50.],\n",
       "                                      [100.,  75.,  50.],\n",
       "                                      [100.,  75.,  50.],\n",
       "                                      [100.,  75.,  50.]]),\n",
       "        array([[100.,  89.],\n",
       "               [100.,  98.],\n",
       "               [100.,  96.],\n",
       "               [100.,  98.],\n",
       "               [100., 100.],\n",
       "               [100., 100.],\n",
       "               [100., 100.],\n",
       "               [100., 100.],\n",
       "               [100., 100.],\n",
       "               [100., 100.],\n",
       "               [100., 100.]]), array([[200.],\n",
       "                                      [200.],\n",
       "                                      [200.],\n",
       "                                      [200.],\n",
       "                                      [200.],\n",
       "                                      [200.],\n",
       "                                      [200.],\n",
       "                                      [200.],\n",
       "                                      [200.],\n",
       "                                      [200.],\n",
       "                                      [200.]]), array([[199.],\n",
       "                                                       [200.],\n",
       "                                                       [200.],\n",
       "                                                       [200.],\n",
       "                                                       [200.],\n",
       "                                                       [200.],\n",
       "                                                       [200.],\n",
       "                                                       [200.],\n",
       "                                                       [200.],\n",
       "                                                       [200.],\n",
       "                                                       [200.]])]],\n",
       "      dtype=object)"
      ]
     },
     "execution_count": 5,
     "metadata": {},
     "output_type": "execute_result"
    }
   ],
   "source": [
    "a = np.load('./result/nUser_1_wlanHE_Normal_1024qam.npy', allow_pickle=True)\n",
    "a"
   ]
  },
  {
   "cell_type": "code",
   "execution_count": 1,
   "metadata": {},
   "outputs": [],
   "source": [
    "import numpy as np\n",
    "import json\n",
    "from utilities import *\n",
    "import torch\n",
    "# print(torch.version.cuda)"
   ]
  },
  {
   "cell_type": "code",
   "execution_count": 1,
   "metadata": {},
   "outputs": [
    {
     "ename": "NameError",
     "evalue": "name 'np' is not defined",
     "output_type": "error",
     "traceback": [
      "\u001b[0;31m---------------------------------------------------------------------------\u001b[0m",
      "\u001b[0;31mNameError\u001b[0m                                 Traceback (most recent call last)",
      "Cell \u001b[0;32mIn[1], line 1\u001b[0m\n\u001b[0;32m----> 1\u001b[0m load_out \u001b[38;5;241m=\u001b[39m \u001b[43mnp\u001b[49m\u001b[38;5;241m.\u001b[39mfromfile(\u001b[38;5;124m'\u001b[39m\u001b[38;5;124m/project/iarpa/dataset/cyclo_modul_OFDM/walk_test/CFOCorr/wlanHT_Extended_64_0_100_20_0.4_2.32cf\u001b[39m\u001b[38;5;124m'\u001b[39m,\\\n\u001b[1;32m      2\u001b[0m     dtype\u001b[38;5;241m=\u001b[39mnp\u001b[38;5;241m.\u001b[39mfloat32)\n\u001b[1;32m      3\u001b[0m \u001b[38;5;28mprint\u001b[39m(load_out\u001b[38;5;241m.\u001b[39mshape)\n\u001b[1;32m      4\u001b[0m data \u001b[38;5;241m=\u001b[39m load_out[np\u001b[38;5;241m.\u001b[39marange(\u001b[38;5;241m0\u001b[39m, load_out\u001b[38;5;241m.\u001b[39mshape[\u001b[38;5;241m0\u001b[39m], \u001b[38;5;241m2\u001b[39m)] \u001b[38;5;241m+\u001b[39m\\\n\u001b[1;32m      5\u001b[0m                     \u001b[38;5;241m1\u001b[39mj \u001b[38;5;241m*\u001b[39m load_out[np\u001b[38;5;241m.\u001b[39marange(\u001b[38;5;241m1\u001b[39m, load_out\u001b[38;5;241m.\u001b[39mshape[\u001b[38;5;241m0\u001b[39m], \u001b[38;5;241m2\u001b[39m)]\n",
      "\u001b[0;31mNameError\u001b[0m: name 'np' is not defined"
     ]
    }
   ],
   "source": [
    "load_out = np.fromfile('/project/iarpa/dataset/cyclo_modul_OFDM/walk_test/CFOCorr/wlanHT_Extended_64_0_100_20_0.4_2.32cf',\\\n",
    "    dtype=np.float32)\n",
    "print(load_out.shape)\n",
    "data = load_out[np.arange(0, load_out.shape[0], 2)] +\\\n",
    "                    1j * load_out[np.arange(1, load_out.shape[0], 2)]\n",
    "print(data.shape)\n",
    "findFirstIndex(data[1600:], 64, 16)"
   ]
  },
  {
   "cell_type": "code",
   "execution_count": 6,
   "metadata": {},
   "outputs": [
    {
     "data": {
      "text/plain": [
       "array([1, 3])"
      ]
     },
     "execution_count": 6,
     "metadata": {},
     "output_type": "execute_result"
    }
   ],
   "source": [
    "a = np.array([1, 3, 2])\n",
    "a[:-1]"
   ]
  },
  {
   "cell_type": "code",
   "execution_count": null,
   "metadata": {},
   "outputs": [],
   "source": []
  }
 ],
 "metadata": {
  "interpreter": {
   "hash": "e751b7af8b71f882a36e366e4a084ba5f9dba78d7a2a0971414443e04822ca66"
  },
  "kernelspec": {
   "display_name": "Python 3.10.9 ('cyclo_modul_OFDM')",
   "language": "python",
   "name": "python3"
  },
  "language_info": {
   "codemirror_mode": {
    "name": "ipython",
    "version": 3
   },
   "file_extension": ".py",
   "mimetype": "text/x-python",
   "name": "python",
   "nbconvert_exporter": "python",
   "pygments_lexer": "ipython3",
   "version": "3.10.9"
  },
  "orig_nbformat": 4
 },
 "nbformat": 4,
 "nbformat_minor": 2
}
