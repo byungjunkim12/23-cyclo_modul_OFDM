{
 "cells": [
  {
   "cell_type": "code",
   "execution_count": 94,
   "metadata": {},
   "outputs": [],
   "source": [
    "import numpy as np\n",
    "import json\n",
    "from utilities import *\n",
    "from OFDMparam import *\n",
    "from CFOcorr import *\n",
    "from getModFeat import *\n",
    "import random\n",
    "import os\n",
    "from glob import glob\n",
    "from collections import defaultdict\n",
    "\n",
    "import torch\n",
    "from torch.utils.data import DataLoader\n",
    "\n",
    "import matplotlib.pyplot as plt\n",
    "pi = math.pi\n"
   ]
  },
  {
   "cell_type": "code",
   "execution_count": 119,
   "metadata": {},
   "outputs": [],
   "source": [
    "SNRVec = np.arange(5, 41, 5, dtype=int)\n",
    "\n",
    "wlanHTInputSym = 40\n",
    "wlanHEInputSym = 10\n",
    "\n",
    "f = open('./inputJson/test.json')\n",
    "dataPath = json.load(f)['data_path']\n",
    "\n",
    "f = open('./inputJson/class/test_class.json')\n",
    "classJson = json.load(f)\n",
    "protocolList = np.array(classJson['protocolList'])\n",
    "CPOptList = np.array(classJson['CPOptList'], dtype=object)\n",
    "CPLenList = np.array(classJson['CPLenList'], dtype=object)\n",
    "modList = np.array(classJson['modList'], dtype=object)\n",
    "\n",
    "dataDict = {file:[] for file in protocolList}\n",
    "for i, protocol in enumerate(protocolList):\n",
    "    dataDict[protocol] = {file:[] for file in CPOptList[i]}\n",
    "    for CPOpt in CPOptList[i]:\n",
    "        dataDict[protocol][CPOpt] = {file:[] for file in modList[i]}\n",
    "        for mod in modList[i]:\n",
    "            dataDict[protocol][CPOpt][mod] = {file:[] for file in SNRVec}\n",
    "            for SNR in SNRVec:\n",
    "                dataDict[protocol][CPOpt][mod][SNR] = defaultdict(list)\n",
    "# print(dataDict)"
   ]
  },
  {
   "cell_type": "code",
   "execution_count": 123,
   "metadata": {},
   "outputs": [
    {
     "name": "stdout",
     "output_type": "stream",
     "text": [
      "<class 'int'> 20\n"
     ]
    },
    {
     "ename": "IndexError",
     "evalue": "list index out of range",
     "output_type": "error",
     "traceback": [
      "\u001b[0;31m---------------------------------------------------------------------------\u001b[0m",
      "\u001b[0;31mIndexError\u001b[0m                                Traceback (most recent call last)",
      "Cell \u001b[0;32mIn[123], line 15\u001b[0m\n\u001b[1;32m     13\u001b[0m \u001b[38;5;28mprint\u001b[39m(\u001b[38;5;28mtype\u001b[39m(fileMod), fileSNR)\n\u001b[1;32m     14\u001b[0m \u001b[38;5;66;03m# print(fileProtocol, fileProtocolIndex, fileModIndex)\u001b[39;00m\n\u001b[0;32m---> 15\u001b[0m \u001b[43mdataDict\u001b[49m\u001b[43m[\u001b[49m\u001b[43mfileProtocol\u001b[49m\u001b[43m]\u001b[49m\u001b[43m[\u001b[49m\u001b[43mfileCPOpt\u001b[49m\u001b[43m]\u001b[49m\u001b[43m[\u001b[49m\u001b[43mfileMod\u001b[49m\u001b[43m]\u001b[49m[fileSNR][\u001b[38;5;124m'\u001b[39m\u001b[38;5;124mlabel\u001b[39m\u001b[38;5;124m'\u001b[39m]\u001b[38;5;241m.\u001b[39mappend(fileModIndex)\n\u001b[1;32m     17\u001b[0m load_out \u001b[38;5;241m=\u001b[39m np\u001b[38;5;241m.\u001b[39mfromfile(dirFileName, dtype\u001b[38;5;241m=\u001b[39mnp\u001b[38;5;241m.\u001b[39mfloat32)\n\u001b[1;32m     18\u001b[0m data \u001b[38;5;241m=\u001b[39m load_out[np\u001b[38;5;241m.\u001b[39marange(\u001b[38;5;241m0\u001b[39m, load_out\u001b[38;5;241m.\u001b[39mshape[\u001b[38;5;241m0\u001b[39m], \u001b[38;5;241m2\u001b[39m)] \u001b[38;5;241m+\u001b[39m\\\n\u001b[1;32m     19\u001b[0m     \u001b[38;5;241m1\u001b[39mj \u001b[38;5;241m*\u001b[39m load_out[np\u001b[38;5;241m.\u001b[39marange(\u001b[38;5;241m1\u001b[39m, load_out\u001b[38;5;241m.\u001b[39mshape[\u001b[38;5;241m0\u001b[39m], \u001b[38;5;241m2\u001b[39m)]\n",
      "\u001b[0;31mIndexError\u001b[0m: list index out of range"
     ]
    }
   ],
   "source": [
    "for subFolder in os.walk(dataPath):\n",
    "    dirFilenameList = glob(subFolder[0] + '/*.32cf')\n",
    "    for fileIndex, dirFileName in enumerate(dirFilenameList):\n",
    "        fileName = dirFileName.split(\"/\")[-1][:-5]\n",
    "        fileProtocol = (dirFileName.split(\"/\")[-1][:-5]).split(\"_\")[0]\n",
    "        fileCPOpt = (dirFileName.split(\"/\")[-1][:-5]).split(\"_\")[1]\n",
    "        fileMod = int((dirFileName.split(\"/\")[-1][:-5]).split(\"_\")[2])\n",
    "        fileSNR = int((dirFileName.split(\"/\")[-1][:-5]).split(\"_\")[4])\n",
    "        \n",
    "        fileProtocolIndex = int(np.where(protocolList == fileProtocol)[0])\n",
    "        fileModIndex = int(np.where(np.array(modList[fileProtocolIndex]) == fileMod)[0])\n",
    "        \n",
    "        print(type(fileMod), fileSNR)\n",
    "        # print(fileProtocol, fileProtocolIndex, fileModIndex)\n",
    "        dataDict[fileProtocol][fileCPOpt][fileMod][fileSNR]['label'].append(fileModIndex)\n",
    "\n",
    "        load_out = np.fromfile(dirFileName, dtype=np.float32)\n",
    "        data = load_out[np.arange(0, load_out.shape[0], 2)] +\\\n",
    "            1j * load_out[np.arange(1, load_out.shape[0], 2)]\n",
    "\n",
    "SNRVec = np.arange(5, 41, 5, dtype=int)\n",
    "\n",
    "wlanHTInputSym = 40\n",
    "wlanHEInputSym = 10\n",
    "\n",
    "f = open('./inputJson/test.json')\n",
    "dataPath = json.load(f)['data_path']\n",
    "\n",
    "f = open('./inputJson/class/test_class.json')\n",
    "classJson = json.load(f)\n",
    "protocolList = np.array(classJson['protocolList'])\n",
    "CPOptList = np.array(classJson['CPOptList'], dtype=object)\n",
    "CPLenList = np.array(classJson['CPLenList'], dtype=object)\n",
    "modList = np.array(classJson['modList'], dtype=object)\n",
    "\n",
    "dataDict = {file:[] for file in protocolList}\n",
    "for i, protocol in enumerate(protocolList):\n",
    "    dataDict[protocol] = {file:[] for file in CPOptList[i]}\n",
    "    for CPOpt in CPOptList[i]:\n",
    "        dataDict[protocol][CPOpt] = {file:[] for file in modList[i]}\n",
    "        for mod in modList[i]:\n",
    "            dataDict[protocol][CPOpt][mod] = {file:[] for file in SNRVec}\n",
    "            for SNR in SNRVec:\n",
    "                dataDict[protocol][CPOpt][mod][SNR] = defaultdict(list)\n",
    "# print(dataDict)"
   ]
  },
  {
   "cell_type": "code",
   "execution_count": 11,
   "metadata": {},
   "outputs": [],
   "source": [
    "SNRVec = np.arange(40, 41, 2, dtype=int)\n",
    "FFTsize = 4096\n",
    "tauVec = np.array([64, 256, 512, 1024, 2048])\n",
    "CPLenList = [[16, 8], [64, 32, 16], [128, 36], [72], [144]]\n",
    "CPOptList = np.array([np.array(['Extended', 'Normal']),\\\n",
    "    np.array(['Extended', 'Medium', 'Normal']),\\\n",
    "    np.array(['Extended', 'Normal']),\\\n",
    "    np.array(['Normal']), np.array(['Normal'])], dtype=object)\n",
    "protocolList = np.array(['wlanHT', 'wlanHE', 'NRDLa', 'NRDLb', 'NRDLc'])"
   ]
  },
  {
   "cell_type": "code",
   "execution_count": 11,
   "metadata": {},
   "outputs": [],
   "source": [
    "load_out = np.fromfile('/project/iarpa/dataset/cyclo_modul_OFDM/simulation/train/wlanHT/wlanHT_Extended_16qam/wlanHT_Extended_16_0_30_20_0.4_2.32cf',\\\n",
    "    dtype=np.float32)\n",
    "f = open('/project/iarpa/dataset/cyclo_modul_OFDM/simulation/train/wlanHT/wlanHT_Extended_16qam/wlanHT_Extended_16_0_30_20_0.4_2.metadata')\n",
    "loadMetadata = json.load(f)\n",
    "\n",
    "data = load_out[np.arange(0, load_out.shape[0], 2)] +\\\n",
    "                    1j * load_out[np.arange(1, load_out.shape[0], 2)]"
   ]
  },
  {
   "cell_type": "code",
   "execution_count": 14,
   "metadata": {},
   "outputs": [
    {
     "name": "stdout",
     "output_type": "stream",
     "text": [
      "startIndex:  3515\n",
      "Truth:  5  Est:  5\n",
      "7860.295668733161\n",
      "7732.624599634129\n",
      "(4485,) (56, 20)\n"
     ]
    },
    {
     "data": {
      "image/png": "[encoded data removed]",
      "text/plain": [
       "<Figure size 600x600 with 1 Axes>"
      ]
     },
     "metadata": {},
     "output_type": "display_data"
    }
   ],
   "source": [
    "preambLen = 720\n",
    "nSym = 20\n",
    "removeNull = True\n",
    "angleMod = False\n",
    "\n",
    "startIndex = random.randint(preambLen, data.shape[0] - 2560)\n",
    "print('startIndex: ', startIndex)\n",
    "inputIQ = data[startIndex:]\n",
    "# print(inputIQ.shape[0])\n",
    "nSubC = 64\n",
    "lenCP = 16\n",
    "samplingRate = 20e6\n",
    "firstIndexSymTruth = findFirstIndex(inputIQ, nSubC, lenCP)\n",
    "firstIndexSymEst = (-startIndex+preambLen) % (nSubC+lenCP)\n",
    "print('Truth: ', firstIndexSymTruth, ' Est: ', firstIndexSymEst)\n",
    "\n",
    "CFOtruth = getCFOtruth(loadMetadata)\n",
    "print(CFOtruth)\n",
    "CFOest = estCFO(inputIQ, nSubC, lenCP, firstIndexSymEst, samplingRate)\n",
    "print(CFOest)\n",
    "\n",
    "inputIQ_CFO = corrCFO(inputIQ, nSubC, lenCP, firstIndexSymEst, samplingRate, 2)\n",
    "a = np.fft.fft(inputIQ_CFO[firstIndexSymEst+lenCP:firstIndexSymEst+lenCP+nSubC])\n",
    "plt.figure(figsize=(6,6))\n",
    "plt.scatter(np.real(a), np.imag(a))\n",
    "\n",
    "feat = getModFeat(inputIQ_CFO, nSubC, lenCP, firstIndexSymEst, nSym, removeNull, angleMod)\n",
    "print(inputIQ_CFO.shape, feat.shape)\n",
    "# plt.figure(figsize=(6,6))\n",
    "# plt.scatter(np.real(feat), np.imag(feat))\n",
    "\n",
    "# xylim = 0.0012\n",
    "# plt.xlim((0, xylim))\n",
    "# plt.ylim((0, xylim*0.6))"
   ]
  },
  {
   "cell_type": "code",
   "execution_count": 9,
   "metadata": {},
   "outputs": [
    {
     "name": "stdout",
     "output_type": "stream",
     "text": [
      "{2: [], 4: [], 16: [], 64: []}\n"
     ]
    }
   ],
   "source": []
  },
  {
   "cell_type": "code",
   "execution_count": 1,
   "metadata": {},
   "outputs": [
    {
     "ename": "NameError",
     "evalue": "name 'modul' is not defined",
     "output_type": "error",
     "traceback": [
      "\u001b[0;31m---------------------------------------------------------------------------\u001b[0m",
      "\u001b[0;31mNameError\u001b[0m                                 Traceback (most recent call last)",
      "Cell \u001b[0;32mIn[1], line 5\u001b[0m\n\u001b[1;32m      3\u001b[0m train_l \u001b[38;5;241m=\u001b[39m \u001b[38;5;28mlist\u001b[39m()\n\u001b[1;32m      4\u001b[0m test_l \u001b[38;5;241m=\u001b[39m \u001b[38;5;28mlist\u001b[39m()\n\u001b[0;32m----> 5\u001b[0m \u001b[38;5;28;01mfor\u001b[39;00m modul \u001b[38;5;129;01min\u001b[39;00m \u001b[43mmodul\u001b[49m:\n\u001b[1;32m      6\u001b[0m     \u001b[38;5;28;01mfor\u001b[39;00m SNR \u001b[38;5;129;01min\u001b[39;00m EsNo_l:\n\u001b[1;32m      7\u001b[0m         dataset_modul \u001b[38;5;241m=\u001b[39m IQDataset(data_d[modul][SNR],cuda_id\u001b[38;5;241m=\u001b[39mcudaID)\n",
      "\u001b[0;31mNameError\u001b[0m: name 'modul' is not defined"
     ]
    }
   ],
   "source": [
    "train_l = list()\n",
    "test_l = list()\n",
    "for modul in modulList:\n",
    "    for SNR in EsNo_l:\n",
    "        dataset_modul = IQDataset(data_d[modul][SNR],cuda_id=cudaID)\n",
    "\n",
    "        train_data_num = int(np.ceil(0.8*len(data_d[modul][SNR]['label'])))\n",
    "        total_data_num = len(data_d[modul][SNR]['label'])\n",
    "        # if data_type == 'RFMLS':\n",
    "        #     if modul == 'BPSK':\n",
    "        #         train_data_num = int(np.ceil(train_data_num / 400))\n",
    "        #         total_data_num = int(np.ceil(total_data_num / 400))\n",
    "        #     if modul == 'QPSK':\n",
    "        #         train_data_num = int(np.ceil(train_data_num / 15))\n",
    "        #         total_data_num = int(np.ceil(total_data_num / 15))\n",
    "\n",
    "        train_l.append(torch.utils.data.Subset(dataset_modul,range(train_data_num)))\n",
    "        # if EsNo == test_EsNo:\n",
    "        test_l.append(torch.utils.data.Subset(dataset_modul,range(train_data_num, total_data_num)))\n",
    "        print(len(train_l[-1]), len(test_l[-1]), len(train_l[-1])+len(test_l[-1]))\n",
    "        \n",
    "\n",
    "dataset_train = torch.utils.data.ConcatDataset(train_l) # concatenating dataset lists\n",
    "dataset_test = torch.utils.data.ConcatDataset(test_l)\n",
    "\n",
    "loader_train = DataLoader(dataset_train,batch_size=batch_size,shuffle=True)\n",
    "loader_test = DataLoader(dataset_test,batch_size=batch_size,shuffle=True)"
   ]
  },
  {
   "cell_type": "code",
   "execution_count": 5,
   "metadata": {},
   "outputs": [
    {
     "name": "stdout",
     "output_type": "stream",
     "text": [
      "[['wlanHT_Normal_2_0_20_20_0.4_29' 64 8 ... 8 29008.918157799955 0]\n",
      " ['wlanHT_Normal_2_0_35_20_0.4_5' 64 8 ... 7 -43802.55759445441 0]\n",
      " ['wlanHT_Normal_2_0_20_20_0.4_7' 64 8 ... 63 -51177.62719227465 0]\n",
      " ...\n",
      " ['wlanHT_Normal_2_0_40_20_0.4_30' 64 8 ... 4 57914.982138170875 0]\n",
      " ['wlanHT_Normal_2_0_20_20_0.4_19' 64 8 ... 8 57332.62341307366 0]\n",
      " ['wlanHT_Normal_2_0_35_20_0.4_44' 64 8 ... 47 22296.722289942787 0]]\n"
     ]
    }
   ],
   "source": [
    "preambleLen = 720\n",
    "loadedNp = np.load('./result/230326_224855/result.npy', allow_pickle=True)\n",
    "# print(loadedNp[0, :, 1])\n",
    "loadedNp[0][:, 4] = (-1 * loadedNp[0][:, 4]) % 72\n",
    "print(loadedNp[0][:, :])"
   ]
  },
  {
   "cell_type": "code",
   "execution_count": null,
   "metadata": {},
   "outputs": [],
   "source": []
  }
 ],
 "metadata": {
  "interpreter": {
   "hash": "e751b7af8b71f882a36e366e4a084ba5f9dba78d7a2a0971414443e04822ca66"
  },
  "kernelspec": {
   "display_name": "Python 3.10.9 ('cyclo_modul_OFDM')",
   "language": "python",
   "name": "python3"
  },
  "language_info": {
   "codemirror_mode": {
    "name": "ipython",
    "version": 3
   },
   "file_extension": ".py",
   "mimetype": "text/x-python",
   "name": "python",
   "nbconvert_exporter": "python",
   "pygments_lexer": "ipython3",
   "version": "3.10.9"
  },
  "orig_nbformat": 4
 },
 "nbformat": 4,
 "nbformat_minor": 2
}
