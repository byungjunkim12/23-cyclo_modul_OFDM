{
 "cells": [
  {
   "cell_type": "code",
   "execution_count": 4,
   "metadata": {},
   "outputs": [],
   "source": [
    "import numpy as np\n",
    "import sys\n",
    "import matplotlib.pyplot as plt\n",
    "import math\n",
    "\n",
    "sys.path.append('..')\n",
    "from utilities import *\n",
    "from estCFO import *\n",
    "nSubC = 256\n",
    "lenCP = 64\n",
    "samplingRate = 20e6\n",
    "# firstIndexSym = "
   ]
  },
  {
   "cell_type": "code",
   "execution_count": 5,
   "metadata": {},
   "outputs": [
    {
     "name": "stdout",
     "output_type": "stream",
     "text": [
      "6000\n",
      "160\n"
     ]
    }
   ],
   "source": [
    "load_out = np.fromfile('/project/iarpa/dataset/cyclo_modul_OFDM/wlanHE_Extended_16qam/wlanHE_Extended_16_0_20_20_0.4_1.32cf',\\\n",
    "    dtype=np.float32)\n",
    "data = load_out[np.arange(0, load_out.shape[0], 2)] +\\\n",
    "    1j * load_out[np.arange(1, load_out.shape[0], 2)]\n",
    "\n",
    "inputIQ = data[2000:]\n",
    "print(inputIQ.shape[0])\n",
    "firstIndexSym = findFirstIndex(inputIQ, nSubC, lenCP)\n",
    "# inputIQ()\n",
    "\n",
    "# a = np.fft.fft(inputIQ[160+64:160+320])\n",
    "# print(a)\n",
    "# plt.scatter(np.real(a), np.imag(a))"
   ]
  },
  {
   "cell_type": "code",
   "execution_count": 8,
   "metadata": {},
   "outputs": [
    {
     "name": "stdout",
     "output_type": "stream",
     "text": [
      "29083.197118955868\n"
     ]
    }
   ],
   "source": [
    "CFOest = estCFO(inputIQ, nSubC, lenCP, firstIndexSym, samplingRate)\n",
    "print(CFOest)\n",
    "inputIQCFO = np.multiply(inputIQ, np.exp(1j*2*math.pi*CFOest/samplingRate*np.arange(inputIQ.shape[0])))\n",
    "a = np.fft.fft(inputIQ[firstIndexSym+lenCP:])"
   ]
  },
  {
   "cell_type": "code",
   "execution_count": 57,
   "metadata": {},
   "outputs": [
    {
     "name": "stdout",
     "output_type": "stream",
     "text": [
      "[1.90123749 2.43351269 2.48376775 2.25289416 2.23761654 2.27835083\n",
      " 2.34373808 2.42500687 2.43698168 2.38497591 2.42648435 2.34913135\n",
      " 2.35478401 2.42045307 2.4352529  2.35266018 2.24631357]\n",
      "29083.197118955868\n"
     ]
    }
   ],
   "source": [
    "inputIQ[firstIndexSym + int(lenCP/4) : ]\n",
    "\n",
    "samplingRate = 20e6\n",
    "lenOFDMSym = nSubC + lenCP\n",
    "nOFDMSym = int(np.floor((inputIQ[firstIndexSym + int(lenCP/4) : ].shape)[0] / lenOFDMSym))\n",
    "phDiffSym = np.zeros((nOFDMSym-1, ))\n",
    "\n",
    "for iSym in range(nOFDMSym-1):  \n",
    "    tempPhDiffSym = np.angle(inputIQ[firstIndexSym + int(lenCP/4) + iSym*lenOFDMSym + nSubC :\\\n",
    "            firstIndexSym + int(lenCP/4) + iSym*lenOFDMSym + nSubC + int(lenCP/2)]) -\\\n",
    "            np.angle(inputIQ[firstIndexSym + int(lenCP/4) + iSym*lenOFDMSym :\\\n",
    "            firstIndexSym + int(lenCP/4) + iSym*lenOFDMSym + int(lenCP/2)])\n",
    "\n",
    "    tempPhDiffSym[tempPhDiffSym > math.pi] = tempPhDiffSym[tempPhDiffSym > math.pi] - 2*math.pi\n",
    "    tempPhDiffSym[tempPhDiffSym < -math.pi] = tempPhDiffSym[tempPhDiffSym < -math.pi] + 2*math.pi\n",
    "    phDiffSym[iSym] = np.mean(tempPhDiffSym)\n",
    "\n",
    "CFOest = np.mean(phDiffSym) / (2*math.pi * nSubC) * samplingRate\n",
    "print(phDiffSym)\n",
    "print(CFOest)\n"
   ]
  },
  {
   "cell_type": "code",
   "execution_count": 59,
   "metadata": {},
   "outputs": [],
   "source": []
  },
  {
   "cell_type": "code",
   "execution_count": 60,
   "metadata": {},
   "outputs": [
    {
     "data": {
      "text/plain": [
       "29083.197118955868"
      ]
     },
     "execution_count": 60,
     "metadata": {},
     "output_type": "execute_result"
    }
   ],
   "source": [
    "estCFO(inputIQ, 256, 64, 160, 20e6)"
   ]
  },
  {
   "cell_type": "code",
   "execution_count": null,
   "metadata": {},
   "outputs": [],
   "source": []
  }
 ],
 "metadata": {
  "interpreter": {
   "hash": "e751b7af8b71f882a36e366e4a084ba5f9dba78d7a2a0971414443e04822ca66"
  },
  "kernelspec": {
   "display_name": "Python 3.10.9 ('cyclo_modul_OFDM')",
   "language": "python",
   "name": "python3"
  },
  "language_info": {
   "codemirror_mode": {
    "name": "ipython",
    "version": 3
   },
   "file_extension": ".py",
   "mimetype": "text/x-python",
   "name": "python",
   "nbconvert_exporter": "python",
   "pygments_lexer": "ipython3",
   "version": "3.10.9"
  },
  "orig_nbformat": 4
 },
 "nbformat": 4,
 "nbformat_minor": 2
}
