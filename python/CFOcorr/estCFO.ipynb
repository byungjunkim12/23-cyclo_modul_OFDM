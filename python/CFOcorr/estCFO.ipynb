{
 "cells": [
  {
   "cell_type": "code",
   "execution_count": 1,
   "metadata": {},
   "outputs": [],
   "source": [
    "import numpy as np\n",
    "import sys\n",
    "import matplotlib.pyplot as plt\n",
    "import math\n",
    "\n",
    "sys.path.append('..')\n",
    "from utilities import *\n",
    "from util_CFOcorr import *\n",
    "nSubC = 256\n",
    "lenCP = 64\n",
    "samplingRate = 20e6"
   ]
  },
  {
   "cell_type": "code",
   "execution_count": 2,
   "metadata": {},
   "outputs": [
    {
     "name": "stdout",
     "output_type": "stream",
     "text": [
      "6000\n",
      "160\n"
     ]
    }
   ],
   "source": [
    "load_out = np.fromfile('/project/iarpa/dataset/cyclo_modul_OFDM/wlanHE_Extended_16qam/wlanHE_Extended_16_0_20_20_0.4_1.32cf',\\\n",
    "    dtype=np.float32)\n",
    "data = load_out[np.arange(0, load_out.shape[0], 2)] +\\\n",
    "    1j * load_out[np.arange(1, load_out.shape[0], 2)]\n",
    "\n",
    "inputIQ = data[2000:]\n",
    "print(inputIQ.shape[0])\n",
    "firstIndexSym = findFirstIndex(inputIQ, nSubC, lenCP)"
   ]
  },
  {
   "cell_type": "code",
   "execution_count": 3,
   "metadata": {},
   "outputs": [
    {
     "ename": "NameError",
     "evalue": "name 'a' is not defined",
     "output_type": "error",
     "traceback": [
      "\u001b[0;31m---------------------------------------------------------------------------\u001b[0m",
      "\u001b[0;31mNameError\u001b[0m                                 Traceback (most recent call last)",
      "Cell \u001b[0;32mIn[3], line 10\u001b[0m\n\u001b[1;32m      1\u001b[0m \u001b[38;5;66;03m# CFOest = estCFO(inputIQ, nSubC, lenCP, firstIndexSym, samplingRate)\u001b[39;00m\n\u001b[1;32m      2\u001b[0m \u001b[38;5;66;03m# print(CFOest)\u001b[39;00m\n\u001b[1;32m      3\u001b[0m \u001b[38;5;66;03m# inputIQCFO = np.multiply(inputIQ, np.exp(-1j*2*math.pi*CFOest/samplingRate*np.arange(inputIQ.shape[0])))\u001b[39;00m\n\u001b[0;32m   (...)\u001b[0m\n\u001b[1;32m      7\u001b[0m \u001b[38;5;66;03m# inputIQCFOCFO = np.multiply(inputIQCFO, np.exp(-1j*2*math.pi*CFOest2/samplingRate*np.arange(inputIQ.shape[0])))\u001b[39;00m\n\u001b[1;32m      8\u001b[0m \u001b[38;5;66;03m# a = np.fft.fft(inputIQCFOCFO[firstIndexSym+64:firstIndexSym+320])\u001b[39;00m\n\u001b[1;32m      9\u001b[0m inputIQ_CFO \u001b[38;5;241m=\u001b[39m corrCFO(inputIQ, nSubC, lenCP, firstIndexSym, samplingRate, \u001b[38;5;241m2\u001b[39m)\n\u001b[0;32m---> 10\u001b[0m plt\u001b[38;5;241m.\u001b[39mscatter(np\u001b[38;5;241m.\u001b[39mreal(\u001b[43ma\u001b[49m), np\u001b[38;5;241m.\u001b[39mimag(a))\n",
      "\u001b[0;31mNameError\u001b[0m: name 'a' is not defined"
     ]
    }
   ],
   "source": [
    "# CFOest = estCFO(inputIQ, nSubC, lenCP, firstIndexSym, samplingRate)\n",
    "# print(CFOest)\n",
    "# inputIQCFO = np.multiply(inputIQ, np.exp(-1j*2*math.pi*CFOest/samplingRate*np.arange(inputIQ.shape[0])))\n",
    "\n",
    "# CFOest2 = estCFO(inputIQCFO, nSubC, lenCP, firstIndexSym, samplingRate)\n",
    "# print(CFOest2)\n",
    "# inputIQCFOCFO = np.multiply(inputIQCFO, np.exp(-1j*2*math.pi*CFOest2/samplingRate*np.arange(inputIQ.shape[0])))\n",
    "# a = np.fft.fft(inputIQCFOCFO[firstIndexSym+64:firstIndexSym+320])\n",
    "inputIQ_CFO = corrCFO(inputIQ, nSubC, lenCP, firstIndexSym, samplingRate, 2)\n",
    "a = np.fft.fft(inputIQ_CFO[firstIndexSym+64:firstIndexSym+320])\n",
    "plt.scatter(np.real(a), np.imag(a))"
   ]
  },
  {
   "cell_type": "code",
   "execution_count": null,
   "metadata": {},
   "outputs": [],
   "source": []
  }
 ],
 "metadata": {
  "interpreter": {
   "hash": "e751b7af8b71f882a36e366e4a084ba5f9dba78d7a2a0971414443e04822ca66"
  },
  "kernelspec": {
   "display_name": "Python 3.10.9 ('cyclo_modul_OFDM')",
   "language": "python",
   "name": "python3"
  },
  "language_info": {
   "codemirror_mode": {
    "name": "ipython",
    "version": 3
   },
   "file_extension": ".py",
   "mimetype": "text/x-python",
   "name": "python",
   "nbconvert_exporter": "python",
   "pygments_lexer": "ipython3",
   "version": "3.10.9"
  },
  "orig_nbformat": 4
 },
 "nbformat": 4,
 "nbformat_minor": 2
}
